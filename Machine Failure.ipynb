{
 "cells": [
  {
   "cell_type": "markdown",
   "id": "bbf90a72-60e4-425a-b65e-42855b4a8607",
   "metadata": {},
   "source": [
    "# Predicting Machine Failure:"
   ]
  },
  {
   "cell_type": "code",
   "execution_count": 10,
   "id": "5b085112-cda7-4a10-bd1b-e5f05bcb4df1",
   "metadata": {
    "jupyter": {
     "source_hidden": true
    }
   },
   "outputs": [],
   "source": [
    "#Import Libraries\n",
    "import matplotlib.pyplot as plt\n",
    "import seaborn as sns\n",
    "from sklearn.metrics import confusion_matrix, roc_curve,classification_report, precision_recall_curve, auc, accuracy_score, precision_score, recall_score, f1_score\n",
    "import ipywidgets as widgets\n",
    "from ipywidgets import interact\n",
    "import pandas as pd\n",
    "from imblearn.over_sampling import SMOTE\n",
    "from sklearn.ensemble import RandomForestClassifier, AdaBoostClassifier\n",
    "from sklearn.linear_model import LogisticRegression\n",
    "from xgboost import XGBClassifier\n",
    "from sklearn.svm import SVC\n",
    "from sklearn.neighbors import KNeighborsClassifier\n",
    "from sklearn.naive_bayes import GaussianNB\n",
    "from sklearn.neural_network import MLPClassifier\n",
    "from sklearn.model_selection import StratifiedShuffleSplit\n",
    "from sklearn.preprocessing import LabelEncoder\n",
    "import warnings\n",
    "\n",
    "warnings.filterwarnings('ignore')"
   ]
  },
  {
   "cell_type": "code",
   "execution_count": 11,
   "id": "657275c3-6b90-4e5e-bf33-b5f5919edbc1",
   "metadata": {
    "jupyter": {
     "source_hidden": true
    }
   },
   "outputs": [],
   "source": [
    "# Load the preprocessed data\n",
    "data = pd.read_csv('Preprocessed_Data.csv')\n",
    "\n",
    "# Rename columns to remove special characters\n",
    "data.rename(columns={\n",
    "    'Air temperature [K]': 'Air_temperature_K',\n",
    "    'Process temperature [K]': 'Process_temperature_K',\n",
    "    'Rotational speed [rpm]': 'Rotational_speed_rpm',\n",
    "    'Torque [Nm]': 'Torque_Nm',\n",
    "    'Tool wear [min]': 'Tool_wear_min'\n",
    "}, inplace=True)\n",
    "\n",
    "# Define features and target\n",
    "X = data[['Type', 'Air_temperature_K', 'Process_temperature_K', 'Rotational_speed_rpm', 'Torque_Nm', 'Tool_wear_min']]\n",
    "y = data['Machine failure']"
   ]
  },
  {
   "cell_type": "code",
   "execution_count": 12,
   "id": "ac5520d3-a664-4373-829c-c7705bb085f7",
   "metadata": {
    "jupyter": {
     "source_hidden": true
    }
   },
   "outputs": [],
   "source": [
    "# Initialize stratified split\n",
    "sss = StratifiedShuffleSplit(n_splits=1, test_size=0.2, random_state=42)\n",
    "\n",
    "for train_index, test_index in sss.split(X, y):\n",
    "    X_train, X_test = X.iloc[train_index], X.iloc[test_index]\n",
    "    y_train, y_test = y.iloc[train_index], y.iloc[test_index]\n",
    "\n",
    "# Apply SMote to oversample the training data\n",
    "smote = SMOTE(random_state=42)\n",
    "X_train_res, y_train_res = smote.fit_resample(X_train, y_train)"
   ]
  },
  {
   "cell_type": "code",
   "execution_count": 13,
   "id": "d56e0494-7019-4192-980e-414f70fdaa4f",
   "metadata": {
    "jupyter": {
     "source_hidden": true
    }
   },
   "outputs": [],
   "source": [
    "# Initialize and train models\n",
    "models = {\n",
    "    'Logistic Regression': LogisticRegression(max_iter=1000, random_state=42),\n",
    "    'Random Forest': RandomForestClassifier(n_estimators=100, random_state=42),\n",
    "    'XGBoost': XGBClassifier(random_state=42),\n",
    "    'SVM': SVC(random_state=42, probability=True),\n",
    "    'KNN': KNeighborsClassifier(n_neighbors=5),\n",
    "    'Naive Bayes': GaussianNB(),\n",
    "    'Neural Network': MLPClassifier(random_state=42, max_iter=300),\n",
    "    'AdaBoost': AdaBoostClassifier(random_state=42)\n",
    "}\n",
    "\n",
    "trained_models = {}\n",
    "y_preds = {}\n",
    "y_probas = {}\n",
    "\n",
    "for name, model in models.items():\n",
    "    model.fit(X_train_res, y_train_res)\n",
    "    y_preds[name] = model.predict(X_test)\n",
    "    if hasattr(model, \"predict_proba\"):\n",
    "        y_probas[name] = model.predict_proba(X_test)\n",
    "    else:\n",
    "        # For SVM with probability=False\n",
    "        y_probas[name] = model.decision_function(X_test)\n",
    "        y_probas[name] = (y_probas[name] - y_probas[name].min()) / (y_probas[name].max() - y_probas[name].min())\n",
    "    trained_models[name] = model"
   ]
  },
  {
   "cell_type": "code",
   "execution_count": 14,
   "id": "baa5f290-f46a-4929-ba28-25a93b10e919",
   "metadata": {
    "jupyter": {
     "source_hidden": true
    }
   },
   "outputs": [
    {
     "data": {
      "application/vnd.jupyter.widget-view+json": {
       "model_id": "3dd7bef68ee2463b956d0bda89501708",
       "version_major": 2,
       "version_minor": 0
      },
      "text/plain": [
       "interactive(children=(Dropdown(description='Model:', options=('Logistic Regression', 'Random Forest', 'XGBoost…"
      ]
     },
     "metadata": {},
     "output_type": "display_data"
    },
    {
     "data": {
      "text/plain": [
       "<function __main__.display_plots(model_name, plot_type)>"
      ]
     },
     "execution_count": 14,
     "metadata": {},
     "output_type": "execute_result"
    }
   ],
   "source": [
    "# Plot functions\n",
    "def plot_confusion_matrix(y_test, y_pred, model_name):\n",
    "    cm = confusion_matrix(y_test, y_pred)\n",
    "    plt.figure(figsize=(10, 7))\n",
    "    sns.heatmap(cm, annot=True, fmt='d', cmap='Blues', xticklabels=['No failure', 'Failure'], yticklabels=['No failure', 'Failure'])\n",
    "    plt.xlabel('Predicted')\n",
    "    plt.ylabel('Actual')\n",
    "    plt.title(f'Confusion Matrix - {model_name}')\n",
    "    plt.show()\n",
    "\n",
    "def plot_roc_curve(y_test, y_proba, model_name):\n",
    "    fpr, tpr, _ = roc_curve(y_test, y_proba[:, 1])\n",
    "    roc_auc = auc(fpr, tpr)\n",
    "    plt.figure(figsize=(10, 7))\n",
    "    plt.plot(fpr, tpr, color='blue', lw=2, label='ROC curve (area = %0.2f)' % roc_auc)\n",
    "    plt.plot([0, 1], [0, 1], color='gray', lw=2, linestyle='--')\n",
    "    plt.xlim([0.0, 1.0])\n",
    "    plt.ylim([0.0, 1.05])\n",
    "    plt.xlabel('False Positive Rate')\n",
    "    plt.ylabel('True Positive Rate')\n",
    "    plt.title(f'Receiver Operating Characteristic - {model_name}')\n",
    "    plt.legend(loc=\"lower right\")\n",
    "    plt.show()\n",
    "\n",
    "def plot_precision_recall_curve(y_test, y_proba, model_name):\n",
    "    precision, recall, _ = precision_recall_curve(y_test, y_proba[:, 1])\n",
    "    pr_auc = auc(recall, precision)\n",
    "    plt.figure(figsize=(10, 7))\n",
    "    plt.plot(recall, precision, color='blue', lw=2, label='Precision-Recall curve (area = %0.2f)' % pr_auc)\n",
    "    plt.xlim([0.0, 1.0])\n",
    "    plt.ylim([0.0, 1.05])\n",
    "    plt.xlabel('Recall')\n",
    "    plt.ylabel('Precision')\n",
    "    plt.title(f'Precision-Recall Curve - {model_name}')\n",
    "    plt.legend(loc=\"lower left\")\n",
    "    plt.show()\n",
    "\n",
    "def plot_metrics(y_test, y_pred, model_name):\n",
    "    accuracy = accuracy_score(y_test, y_pred)\n",
    "    precision = precision_score(y_test, y_pred, average='weighted')\n",
    "    recall = recall_score(y_test, y_pred, average='weighted')\n",
    "    f1 = f1_score(y_test, y_pred, average='weighted')\n",
    "    \n",
    "    metrics = {'Accuracy': accuracy, 'Precision': precision, 'Recall': recall, 'F1 Score': f1}\n",
    "    plt.figure(figsize=(10, 7))\n",
    "    bars = plt.bar(metrics.keys(), metrics.values(), color='blue')\n",
    "    plt.xlabel('Metrics')\n",
    "    plt.ylabel('Scores')\n",
    "    plt.ylim([0, 1])\n",
    "    plt.title(f'Metrics - {model_name}')\n",
    "    \n",
    "    # Annotate bars with the metric values\n",
    "    for bar in bars:\n",
    "        yval = bar.get_height()\n",
    "        plt.text(bar.get_x() + bar.get_width()/2, yval, round(yval, 2), va='bottom')  # va: vertical alignment\n",
    "    \n",
    "    plt.show()\n",
    "\n",
    "# Dropdown Menu Function\n",
    "def display_plots(model_name, plot_type):\n",
    "    y_pred = y_preds[model_name]\n",
    "    y_proba = y_probas[model_name]\n",
    "    \n",
    "    if plot_type == 'Confusion Matrix':\n",
    "        plot_confusion_matrix(y_test, y_pred, model_name)\n",
    "    elif plot_type == 'ROC Curve':\n",
    "        plot_roc_curve(y_test, y_proba, model_name)\n",
    "    elif plot_type == 'Precision-Recall Curve':\n",
    "        plot_precision_recall_curve(y_test, y_proba, model_name)\n",
    "    elif plot_type == 'Metrics':\n",
    "        plot_metrics(y_test, y_pred, model_name)\n",
    "\n",
    "# Create Dropdown Widgets\n",
    "model_dropdown = widgets.Dropdown(options=list(models.keys()), description='Model:')\n",
    "plot_dropdown = widgets.Dropdown(options=['Confusion Matrix', 'ROC Curve', 'Precision-Recall Curve', 'Metrics'], description='Plot Type:')\n",
    "\n",
    "# Display Interactive Widgets\n",
    "interact(display_plots, model_name=model_dropdown, plot_type=plot_dropdown)"
   ]
  }
 ],
 "metadata": {
  "kernelspec": {
   "display_name": "Python 3 (ipykernel)",
   "language": "python",
   "name": "python3"
  },
  "language_info": {
   "codemirror_mode": {
    "name": "ipython",
    "version": 3
   },
   "file_extension": ".py",
   "mimetype": "text/x-python",
   "name": "python",
   "nbconvert_exporter": "python",
   "pygments_lexer": "ipython3",
   "version": "3.11.7"
  }
 },
 "nbformat": 4,
 "nbformat_minor": 5
}
